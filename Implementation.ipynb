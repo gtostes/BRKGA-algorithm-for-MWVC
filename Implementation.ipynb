{
  "nbformat": 4,
  "nbformat_minor": 0,
  "metadata": {
    "colab": {
      "name": "Cópia de PO205_Trabalho",
      "provenance": [],
      "collapsed_sections": []
    },
    "kernelspec": {
      "name": "python3",
      "display_name": "Python 3"
    },
    "language_info": {
      "name": "python"
    }
  },
  "cells": [
    {
      "cell_type": "code",
      "metadata": {
        "id": "AHpJ8Q_0BzLS"
      },
      "source": [
        "import numpy as np\n",
        "import random\n",
        "import copy"
      ],
      "execution_count": null,
      "outputs": []
    },
    {
      "cell_type": "code",
      "metadata": {
        "id": "mPBeJ9P_FJNx"
      },
      "source": [
        "class solution():\n",
        "  def __init__(self, n, p=0.5):\n",
        "    self.vector = (p-0.1)*np.ones(n)\n",
        "    self.taken = np.zeros(n)\n",
        "    self.p=p\n",
        "    self.prize = 0\n",
        "\n",
        "  def decode(self):\n",
        "    self.taken = self.vector > self.p\n",
        "  \n",
        "  def update(self, weights):\n",
        "    self.prize = sum(self.taken*weights)\n"
      ],
      "execution_count": null,
      "outputs": []
    },
    {
      "cell_type": "code",
      "metadata": {
        "id": "6K5wDyJHFXni"
      },
      "source": [
        "class graph_():\n",
        "  def __init__(self, edges, weights):\n",
        "    self.n = len(weights)\n",
        "    self.edges = copy.deepcopy(edges)\n",
        "    self.weights = copy.deepcopy(weights)\n",
        "    self.sumweights = sum(weights)\n",
        "    self.deg = np.zeros(len(weights))\n",
        "    self.adj = {i: [] for i in range(len(weights))}\n",
        "    for edge in self.edges:\n",
        "          self.deg[edge[0]]+=1\n",
        "          self.adj[edge[0]].append(edge[1])\n",
        "          if edge[0] != edge[1]:\n",
        "            self.deg[edge[1]]+=1\n",
        "            self.adj[edge[1]].append(edge[0])\n"
      ],
      "execution_count": null,
      "outputs": []
    },
    {
      "cell_type": "code",
      "metadata": {
        "id": "X9tHJHk9soFB"
      },
      "source": [
        "def is_feasible(elem, graph):\n",
        "  for e in graph.edges:\n",
        "    if not elem.taken[e[0]] and not elem.taken[e[1]]: return False\n",
        "  return True"
      ],
      "execution_count": null,
      "outputs": []
    },
    {
      "cell_type": "markdown",
      "metadata": {
        "id": "q-7fhfbNgknC"
      },
      "source": [
        ""
      ]
    },
    {
      "cell_type": "code",
      "metadata": {
        "id": "8A8veqkuFY5Q"
      },
      "source": [
        "class brkga():\n",
        "  def __init__(self, graph, population_size=30, mutation_probability = .8, elitism = .1, generations = 30, p=0.5):\n",
        "    self.graph = graph\n",
        "    self.population_size = population_size\n",
        "    self.mutation_probability = mutation_probability\n",
        "    self.elitism = elitism\n",
        "    self.generations = generations\n",
        "    self.best_solution = solution(graph.n,p)\n",
        "    self.p = p\n",
        "    self.population = []\n",
        "    self.best_gen = 0\n",
        "\n",
        "  def initial_population(self):\n",
        "    for i in range(self.population_size):\n",
        "      new_element = solution(self.graph.n,0.5)\n",
        "      edg = copy.deepcopy(graph.edges)\n",
        "      np.random.shuffle(edg)\n",
        "      for e in edg:\n",
        "        if new_element.taken[e[0]] or new_element.taken[e[1]]: continue\n",
        "        p0 = self.graph.weights[e[0]]/(self.graph.deg[e[0]]+.1)\n",
        "        p1 = self.graph.weights[e[1]]/(self.graph.deg[e[1]]+.1)\n",
        "        u01 = random.uniform(0,1)\n",
        "        if u01 < p0/(p0+p1): \n",
        "          new_element.vector[e[1]]=self.p+0.1+np.random.normal(0,0.01)\n",
        "          new_element.taken[e[1]] = 1\n",
        "        else:\n",
        "          new_element.vector[e[0]]=self.p+0.1+np.random.normal(0,0.01)\n",
        "          new_element.taken[e[0]] = 1\n",
        "      new_element.update(self.graph.weights)\n",
        "      self.population.append(new_element)\n",
        "\n",
        "  def parents_selection(self, t=5):\n",
        "    parent1 = -1\n",
        "    parent2 = -1\n",
        "    prize1 = 0\n",
        "    prize2 = 0\n",
        "    for i in range(t):\n",
        "      e = random.randint(0,self.population_size-1)\n",
        "      if parent1==-1 or self.population[e].prize < prize1:\n",
        "        prize1 = self.population[e].prize\n",
        "        parent1 = e\n",
        "    for i in range(t):\n",
        "      e = random.randint(0,self.population_size-1)\n",
        "      if parent2==-1 or self.population[e].prize < prize2:\n",
        "        prize2 = self.population[e].prize\n",
        "        parent2 = e\n",
        "    return [self.population[parent1], self.population[parent2]]\n",
        "\n",
        "  def mutation(self, elem):\n",
        "    u01 = random.uniform(0,1)\n",
        "    if u01<self.mutation_probability:\n",
        "      for i in range(len(elem.vector)):\n",
        "        if random.uniform(0,1) < .03:\n",
        "          elem.vector[i] = random.uniform(0,1)\n",
        "          if elem.vector[i] > self.p: elem.taken[i]=1\n",
        "          else: elem.taken[i]=0\n",
        "    else:\n",
        "      MaxN = -1\n",
        "      MinN = -1\n",
        "      MaxE = -1\n",
        "      MinE = -1\n",
        "      for L in range(5):\n",
        "        P = random.randint(0,len(elem.vector)-1)\n",
        "        ratioP = self.graph.weights[P]/(self.graph.deg[P]+1)\n",
        "        if MaxN == -1 or MaxN<ratioP:\n",
        "          MaxN = ratioP\n",
        "          MaxE = P\n",
        "        if MinN == -1 or MinN>ratioP:\n",
        "          MinN = ratioP\n",
        "          MinE = P\n",
        "      elem.vector[MaxE]=(1+elem.vector[MaxE])/2\n",
        "      elem.vector[MinE]=elem.vector[MinE]/1.5\n",
        "      elem.taken[MaxE] = elem.vector[MaxE] > self.p\n",
        "      elem.taken[MinE] = elem.vector[MinE] > self.p\n",
        "\n",
        "  def crossover(self):\n",
        "    children = []\n",
        "    for i in range(self.population_size//2):\n",
        "      parents = self.parents_selection()\n",
        "      child1 = solution(self.graph.n)\n",
        "      child2 = solution(self.graph.n)\n",
        "      for j in range(self.graph.n): \n",
        "        u01 = random.uniform(0,1)\n",
        "        if u01 <0.5 : child1.vector[j] = (parents[0].vector[j] + parents[1].vector[j])/2;\n",
        "        elif u01<0.75 : child1.vector[j] = parents[0].vector[j];\n",
        "        else: child1.vector[j] = parents[1].vector[j];\n",
        "\n",
        "      child1.decode()\n",
        "      child1.update(self.graph.weights)\n",
        "      self.mutation(child1)\n",
        "      self.repairPut(child1)\n",
        "      self.repairTake(child1)\n",
        "\n",
        "      for j in range(self.graph.n):\n",
        "        P1 = parents[0].prize\n",
        "        P2 = parents[1].prize\n",
        "        child2.vector[j] = (P1*parents[0].vector[j] + P2*parents[1].vector[j])/(P1+P2);\n",
        "      child2.decode()\n",
        "      child2.update(self.graph.weights)\n",
        "\n",
        "      self.mutation(child2)\n",
        "      self.repairPut(child2)\n",
        "      self.repairTake(child2)\n",
        "\n",
        "      children.append(child1)\n",
        "      children.append(child2)\n",
        "    \n",
        "    return children\n",
        "  \n",
        "  def avoid_convergence(self):\n",
        "    for L in range(int(self.population_size*0.1)):\n",
        "      u = random.randint(0,self.population_size-1)\n",
        "      v = random.randint(0,self.population_size-1)\n",
        "      bb = True\n",
        "      for i in range(self.graph.n):\n",
        "        if self.population[u].taken[i]!=self.population[v].taken[i]: bb=False\n",
        "      if u!=v and bb:\n",
        "        self.mutation(self.population[u])\n",
        "        self.mutation(self.population[u])\n",
        "        self.mutation(self.population[u])\n",
        "        self.repairPut(self.population[u])\n",
        "        self.repairTake(self.population[u])\n",
        "  \n",
        "  def repairPut(self, elem):\n",
        "      edg = []\n",
        "      for e in self.graph.edges:\n",
        "        if not elem.taken[e[0]] and not elem.taken[e[1]]: edg.append(e)\n",
        "      edg = np.array(edg)\n",
        "      np.random.shuffle(edg)\n",
        "\n",
        "      for e in edg:\n",
        "        if elem.taken[e[0]] or elem.taken[e[1]]:  continue\n",
        "        p0 = self.graph.weights[e[0]]/(self.graph.deg[e[0]]+.1)\n",
        "        p1 = self.graph.weights[e[1]]/(self.graph.deg[e[1]]+.1)\n",
        "        u01 = random.uniform(0,1)\n",
        "        if u01 < p0/(p0+p1): \n",
        "          elem.vector[e[1]]=random.uniform(self.p,1)\n",
        "          elem.taken[e[1]]=1\n",
        "        else: \n",
        "          elem.vector[e[0]]=random.uniform(self.p,1)\n",
        "          elem.taken[e[0]]=1\n",
        "          \n",
        "      elem.update(self.graph.weights)\n",
        "\n",
        "  def eliminate_redundant(self, redundant, elem):\n",
        "      for u in self.graph.adj[elem]:\n",
        "        if u in redundant: redundant.remove(u)\n",
        "      if elem in redundant: redundant.remove(elem)\n",
        "\n",
        "  def repairTake(self, elem):\n",
        "      redundant = []\n",
        "      cnt = np.zeros(len(elem.vector))\n",
        "\n",
        "      for i in range(len(elem.vector)):\n",
        "        if not elem.taken[i]: continue\n",
        "        ct = 0\n",
        "        for j in self.graph.adj[i]:\n",
        "          if elem.taken[j]: ct+=1\n",
        "          else: break\n",
        "        if ct>0 and ct==self.graph.deg[i] and (i not in self.graph.adj[i]): redundant.append(i)\n",
        "\n",
        "      while len(redundant):\n",
        "        p = np.zeros(len(redundant))\n",
        "        for i in range(len(redundant)):\n",
        "          p[i] = self.graph.weights[i]/((self.graph.deg[i]+0.01)*self.graph.sumweights);\n",
        "        p = np.exp(2*np.array(p))\n",
        "        p = p/p.sum()\n",
        "\n",
        "        E = np.random.choice(redundant, 1, p = p)[0]\n",
        "        elem.taken[E] = 0\n",
        "        elem.vector[E] = random.uniform(0,self.p)\n",
        "        self.eliminate_redundant(redundant, E)\n",
        "\n",
        "      elem.update(self.graph.weights)\n",
        "\n",
        "  def next_generation_selection(self, parents, children):\n",
        "      next_gen = []\n",
        "      parents.sort(key = lambda x: x.prize)\n",
        "      children.sort(key = lambda x: x.prize)\n",
        "\n",
        "      for i in range(int(self.population_size*0.1)):\n",
        "        next_gen.append(parents[i])\n",
        "      for i in range(int(self.population_size*0.8)):\n",
        "        next_gen.append(children[i])\n",
        "      I = int(self.population_size*0.1)\n",
        "      J = int(self.population_size*0.8)\n",
        "\n",
        "      for i in range(int(self.population_size*0.1)):\n",
        "        p0 = parents[I].prize\n",
        "        p1 = children[J].prize\n",
        "        u01 = random.uniform(0,1)\n",
        "        if u01 < p0/(p1+p0):\n",
        "          next_gen.append(children[J])\n",
        "        else:\n",
        "          next_gen.append(parents[I])\n",
        "        I+=1\n",
        "        J+=1\n",
        "      return next_gen\n",
        "\n",
        "  def solve(self):\n",
        "    self.initial_population()\n",
        "    self.best_solution = copy.deepcopy(self.population[0])\n",
        "\n",
        "    counter = 0\n",
        "    while (counter < self.generations):\n",
        "      children = self.crossover() #Parents Selection, Crossover, Mutation, RepairPut e RepairTake\n",
        "      self.population = self.next_generation_selection(copy.deepcopy(self.population), children)\n",
        "      self.avoid_convergence()\n",
        "      for individual in self.population:\n",
        "        if individual.prize < self.best_solution.prize:\n",
        "          self.best_solution = copy.deepcopy(individual)\n",
        "          self.best_gen = counter\n",
        "      counter+=1\n",
        "      if (counter%20==0): print(counter,self.best_solution.prize)\n",
        "\n",
        "  "
      ],
      "execution_count": null,
      "outputs": []
    },
    {
      "cell_type": "code",
      "metadata": {
        "colab": {
          "base_uri": "https://localhost:8080/"
        },
        "id": "MNjbq48QS7eR",
        "outputId": "f51baa8a-64f2-44ac-86f9-cc9f89eb7003"
      },
      "source": [
        "from google.colab import drive\n",
        "drive.mount('/content/drive')"
      ],
      "execution_count": null,
      "outputs": [
        {
          "output_type": "stream",
          "text": [
            "Mounted at /content/drive\n"
          ],
          "name": "stdout"
        }
      ]
    },
    {
      "cell_type": "code",
      "metadata": {
        "colab": {
          "base_uri": "https://localhost:8080/"
        },
        "id": "Q2yX3tKDTB5h",
        "outputId": "40d1b5d6-f04a-4982-b968-0370aa20b94a"
      },
      "source": [
        "!ls '/content/drive/MyDrive/Instances'"
      ],
      "execution_count": null,
      "outputs": [
        {
          "output_type": "stream",
          "text": [
            "bio-celegans.mtx   gent113.mtx\t\t soc-douban.mtx\n",
            "bio-diseasome.mtx  ia-email-EU.mtx\t soc-karate.mtx\n",
            "bio-yeast.mtx\t   ia-enron-only.mtx\t tech-as-caida2007.mtx\n",
            "boyd2.mtx\t   ia-reality.mtx\t web-edu.mtx\n",
            "ca-CSphd.mtx\t   lp1.mtx\t\t web-google.mtx\n",
            "ca-Erdos992.mtx    road-chesapeake.mtx\t web-indochina-2004.mtx\n",
            "can_96.mtx\t   rt-retweet-crawl.mtx  web-polblogs.mtx\n",
            "ca-netscience.mtx  rt-retweet.mtx\t web-webbase-2001.mtx\n",
            "dwt_59.mtx\t   rt-twitter-copen.mtx\n",
            "GD95_c.mtx\t   soc-dolphins.mtx\n"
          ],
          "name": "stdout"
        }
      ]
    },
    {
      "cell_type": "code",
      "metadata": {
        "id": "8Q0-4wIpTLKZ"
      },
      "source": [
        "from scipy.io import mmread\n",
        "def toWE_mtx(name):\n",
        "  end = f'/content/drive/MyDrive/Instances/{name}.mtx'\n",
        "  a = mmread(end).toarray()\n",
        "  w = [((i+2)%200) for i in range(len(a))]\n",
        "  e = []\n",
        "  for i in range(len(a)):\n",
        "    for j in range(i,len(a)):\n",
        "      if a[i][j]: e.append([i,j])\n",
        "  return w,e"
      ],
      "execution_count": null,
      "outputs": []
    },
    {
      "cell_type": "code",
      "metadata": {
        "id": "0pFhtumV4JWy"
      },
      "source": [
        "names = ['ia-email-EU']"
      ],
      "execution_count": null,
      "outputs": []
    },
    {
      "cell_type": "code",
      "metadata": {
        "id": "NWcGwYxw6pqQ"
      },
      "source": [
        "import time"
      ],
      "execution_count": null,
      "outputs": []
    },
    {
      "cell_type": "code",
      "metadata": {
        "colab": {
          "base_uri": "https://localhost:8080/"
        },
        "id": "siypA2qu2afC",
        "outputId": "e5929182-3662-4847-8454-e71ccc2bfbf4"
      },
      "source": [
        "for name in names:\n",
        "  w,e = toWE_mtx(name)\n",
        "  graph = graph_(e,w)\n",
        "  GA = brkga(graph,generations=200)\n",
        "  aux = time.time()\n",
        "  GA.solve()\n",
        "  print(f'{name} : {time.time()-aux}')"
      ],
      "execution_count": null,
      "outputs": [
        {
          "output_type": "stream",
          "text": [
            "20 78470\n",
            "40 78335\n",
            "60 78310\n",
            "80 78310\n",
            "100 78310\n",
            "120 78310\n",
            "140 78310\n",
            "160 78310\n",
            "180 78310\n",
            "200 78310\n",
            "ia-email-EU : 2429.7700550556183\n"
          ],
          "name": "stdout"
        }
      ]
    }
  ]
}